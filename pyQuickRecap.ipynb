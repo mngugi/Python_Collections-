{
 "cells": [
  {
   "cell_type": "code",
   "execution_count": null,
   "id": "d0d6c37a-98ac-46e8-86d7-bc86eedbf5bf",
   "metadata": {},
   "outputs": [],
   "source": [
    "# design of a simple calculator\n",
    "\n",
    "import sys\n",
    "\n",
    "def add(i,j): \n",
    "    return i+j\n",
    "\n",
    "def subtract(i,j):\n",
    "    return i-j\n",
    "\n",
    "def divide(i,j):\n",
    "    return i/j\n",
    "\n",
    "def multiply(i,j):\n",
    "    return\n",
    "\n"
   ]
  }
 ],
 "metadata": {
  "kernelspec": {
   "display_name": "Python 3 (ipykernel)",
   "language": "python",
   "name": "python3"
  },
  "language_info": {
   "codemirror_mode": {
    "name": "ipython",
    "version": 3
   },
   "file_extension": ".py",
   "mimetype": "text/x-python",
   "name": "python",
   "nbconvert_exporter": "python",
   "pygments_lexer": "ipython3",
   "version": "3.12.2"
  }
 },
 "nbformat": 4,
 "nbformat_minor": 5
}
