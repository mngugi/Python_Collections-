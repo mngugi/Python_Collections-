{
 "cells": [
  {
   "cell_type": "code",
   "execution_count": 1,
   "id": "d0d6c37a-98ac-46e8-86d7-bc86eedbf5bf",
   "metadata": {},
   "outputs": [],
   "source": [
    "# design of a simple calculator\n",
    "\n",
    "import sys\n",
    "\n",
    "def add(i,j): \n",
    "    return i+j\n",
    "\n",
    "def subtract(i,j):\n",
    "    return i-j\n",
    "\n",
    "def divide(i,j):\n",
    "    return i/j\n",
    "\n",
    "def multiply(i,j):\n",
    "    return\n",
    "\n"
   ]
  },
  {
   "cell_type": "code",
   "execution_count": 3,
   "id": "f21b79be-6fc6-4c05-a2f3-0d9ec0b35887",
   "metadata": {},
   "outputs": [],
   "source": [
    "import sys \n",
    "\n",
    "def takeinput():\n",
    "    first = input('Enter First Number: , Q to Exit: ')\n",
    "\n",
    "    if first == 'Q':\n",
    "        sys.exit()\n",
    "\n",
    "    sign = input('Please Enter +, - , /: ')\n",
    "    second = input('Enter Second Number: ')\n",
    "    list_ = [first,second,second]\n",
    "\n",
    "    return list_"
   ]
  },
  {
   "cell_type": "code",
   "execution_count": 1,
   "id": "f44f8d30-a10b-4bf4-abb7-24e152439b48",
   "metadata": {},
   "outputs": [
    {
     "ename": "SyntaxError",
     "evalue": "invalid syntax (1169001799.py, line 14)",
     "output_type": "error",
     "traceback": [
      "\u001b[0;36m  Cell \u001b[0;32mIn[1], line 14\u001b[0;36m\u001b[0m\n\u001b[0;31m    answer = divide(i,j):\u001b[0m\n\u001b[0m                        ^\u001b[0m\n\u001b[0;31mSyntaxError\u001b[0m\u001b[0;31m:\u001b[0m invalid syntax\n"
     ]
    }
   ],
   "source": [
    "def calc():\n",
    "    answer = 0\n",
    "    while True:\n",
    "        lista = takeinput()\n",
    "        i = int(lista[0])\n",
    "        j = int(lista[1])\n",
    "        sign = lista[2]\n",
    "\n",
    "        if sign == '+':\n",
    "            answer = add(i,j)\n",
    "        if sign == '-':\n",
    "            answer = subtract(i,j)\n",
    "        if sign == '/':\n",
    "            answer = divide(i,j)\n",
    "        if sign == '*':\n",
    "            answer = multiply(i,j)\n",
    "\n",
    "        print(a, sign,b, '=')   \n",
    "calc()"
   ]
  },
  {
   "cell_type": "code",
   "execution_count": null,
   "id": "288ad2d5-cb3b-4e6b-b886-e7c364978525",
   "metadata": {},
   "outputs": [],
   "source": []
  }
 ],
 "metadata": {
  "kernelspec": {
   "display_name": "Python 3 (ipykernel)",
   "language": "python",
   "name": "python3"
  },
  "language_info": {
   "codemirror_mode": {
    "name": "ipython",
    "version": 3
   },
   "file_extension": ".py",
   "mimetype": "text/x-python",
   "name": "python",
   "nbconvert_exporter": "python",
   "pygments_lexer": "ipython3",
   "version": "3.12.2"
  }
 },
 "nbformat": 4,
 "nbformat_minor": 5
}
