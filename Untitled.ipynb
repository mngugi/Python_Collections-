{
 "cells": [
  {
   "cell_type": "code",
   "execution_count": 3,
   "id": "e1db398f-f80f-4935-bb5a-4949bc8c8af4",
   "metadata": {},
   "outputs": [
    {
     "name": "stdout",
     "output_type": "stream",
     "text": [
      "running: pytest -m not slow and not network and not db /usr/lib64/python3.13/site-packages/pandas\n",
      "\u001b[1m============================= test session starts ==============================\u001b[0m\n",
      "platform linux -- Python 3.13.5, pytest-8.4.1, pluggy-1.5.0\n",
      "rootdir: /usr/lib64/python3.13/site-packages/pandas\n",
      "configfile: pyproject.toml\n",
      "plugins: hypothesis-6.135.26, xdist-3.8.0, anyio-4.8.0\n",
      "collected 0 items\n",
      "\n",
      "\u001b[33m=============================== warnings summary ===============================\u001b[0m\n",
      "../../../.local/lib/python3.13/site-packages/_pytest/config/__init__.py:1290\n",
      "  /home/alma42/.local/lib/python3.13/site-packages/_pytest/config/__init__.py:1290: PytestAssertRewriteWarning: Module already imported so cannot be rewritten; _hypothesis_globals\n",
      "    self._mark_plugins_for_rewrite(hook, disable_autoload)\n",
      "\n",
      "../../../.local/lib/python3.13/site-packages/_pytest/config/__init__.py:1290\n",
      "  /home/alma42/.local/lib/python3.13/site-packages/_pytest/config/__init__.py:1290: PytestAssertRewriteWarning: Module already imported so cannot be rewritten; hypothesis\n",
      "    self._mark_plugins_for_rewrite(hook, disable_autoload)\n",
      "\n",
      "../../../.local/lib/python3.13/site-packages/_pytest/cacheprovider.py:475\n",
      "  /home/alma42/.local/lib/python3.13/site-packages/_pytest/cacheprovider.py:475: PytestCacheWarning: could not create cache path /usr/lib64/python3.13/site-packages/pandas/.pytest_cache/v/cache/nodeids: [Errno 13] Permission denied: '/usr/lib64/python3.13/site-packages/pandas/pytest-cache-files-vb3r8as1'\n",
      "    config.cache.set(\"cache/nodeids\", sorted(self.cached_nodeids))\n",
      "\n",
      "-- Docs: https://docs.pytest.org/en/stable/how-to/capture-warnings.html\n",
      "- generated xml file: /home/alma42/Documents/GitHub/Python_Collections-/test-data.xml -\n",
      "\u001b[33m============================= \u001b[33m\u001b[1m3 warnings\u001b[0m\u001b[33m in 0.12s\u001b[0m\u001b[33m ==============================\u001b[0m\n"
     ]
    },
    {
     "ename": "SystemExit",
     "evalue": "5",
     "output_type": "error",
     "traceback": [
      "An exception has occurred, use %tb to see the full traceback.\n",
      "\u001b[0;31mSystemExit\u001b[0m\u001b[0;31m:\u001b[0m 5\n"
     ]
    },
    {
     "name": "stderr",
     "output_type": "stream",
     "text": [
      "/usr/lib/python3.13/site-packages/IPython/core/interactiveshell.py:3590: UserWarning: To exit: use 'exit', 'quit', or Ctrl-D.\n",
      "  warn(\"To exit: use 'exit', 'quit', or Ctrl-D.\", stacklevel=1)\n"
     ]
    }
   ],
   "source": [
    "import pandas as pd\n",
    "import pytest\n",
    "pd.test()"
   ]
  },
  {
   "cell_type": "code",
   "execution_count": null,
   "id": "615cc086-2a3d-4a38-a524-e5004f763639",
   "metadata": {},
   "outputs": [],
   "source": []
  }
 ],
 "metadata": {
  "kernelspec": {
   "display_name": "Python 3 (ipykernel)",
   "language": "python",
   "name": "python3"
  },
  "language_info": {
   "codemirror_mode": {
    "name": "ipython",
    "version": 3
   },
   "file_extension": ".py",
   "mimetype": "text/x-python",
   "name": "python",
   "nbconvert_exporter": "python",
   "pygments_lexer": "ipython3",
   "version": "3.13.5"
  }
 },
 "nbformat": 4,
 "nbformat_minor": 5
}
