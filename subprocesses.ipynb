{
 "cells": [
  {
   "cell_type": "code",
   "execution_count": null,
   "id": "ede7dd62-9dec-400d-8ab6-06aa71e51069",
   "metadata": {},
   "outputs": [],
   "source": [
    "%run Acronyms.py\n"
   ]
  },
  {
   "cell_type": "code",
   "execution_count": null,
   "id": "48815ea1-d73e-464a-9693-dae2279af197",
   "metadata": {},
   "outputs": [],
   "source": []
  }
 ],
 "metadata": {
  "kernelspec": {
   "display_name": "Python 3 (ipykernel)",
   "language": "python",
   "name": "python3"
  },
  "language_info": {
   "codemirror_mode": {
    "name": "ipython",
    "version": 3
   },
   "file_extension": ".py",
   "mimetype": "text/x-python",
   "name": "python",
   "nbconvert_exporter": "python",
   "pygments_lexer": "ipython3",
   "version": "3.12.2"
  }
 },
 "nbformat": 4,
 "nbformat_minor": 5
}
