{
 "cells": [
  {
   "cell_type": "code",
   "execution_count": 7,
   "id": "ede7dd62-9dec-400d-8ab6-06aa71e51069",
   "metadata": {},
   "outputs": [
    {
     "ename": "AttributeError",
     "evalue": "module 'pyfiglet' has no attribute 'figlet_format'",
     "output_type": "error",
     "traceback": [
      "\u001b[0;31m---------------------------------------------------------------------------\u001b[0m",
      "\u001b[0;31mAttributeError\u001b[0m                            Traceback (most recent call last)",
      "File \u001b[0;32m~/Documents/GitHub/Python_Collections-/Acronyms.py:12\u001b[0m\n\u001b[1;32m      9\u001b[0m     \u001b[38;5;28mprint\u001b[39m(ascii_art)\n\u001b[1;32m     11\u001b[0m \u001b[38;5;28;01mif\u001b[39;00m \u001b[38;5;18m__name__\u001b[39m \u001b[38;5;241m==\u001b[39m \u001b[38;5;124m\"\u001b[39m\u001b[38;5;124m__main__\u001b[39m\u001b[38;5;124m\"\u001b[39m:\n\u001b[0;32m---> 12\u001b[0m     display_title(\u001b[38;5;124m\"\u001b[39m\u001b[38;5;124mPython Acronyms\u001b[39m\u001b[38;5;124m\"\u001b[39m)\n\u001b[1;32m     14\u001b[0m \u001b[38;5;124;03m'''\u001b[39;00m\n\u001b[1;32m     15\u001b[0m \u001b[38;5;124;03m# Script Name: add_two_numbers.py\u001b[39;00m\n\u001b[1;32m     16\u001b[0m \u001b[38;5;124;03m# Author: Mwangi\u001b[39;00m\n\u001b[0;32m   (...)\u001b[0m\n\u001b[1;32m     29\u001b[0m \n\u001b[1;32m     30\u001b[0m \u001b[38;5;124;03m'''\u001b[39;00m\n\u001b[1;32m     32\u001b[0m acronyms \u001b[38;5;241m=\u001b[39m {\n\u001b[1;32m     33\u001b[0m     \u001b[38;5;124m\"\u001b[39m\u001b[38;5;124mPEP\u001b[39m\u001b[38;5;124m\"\u001b[39m: \u001b[38;5;124m\"\u001b[39m\u001b[38;5;124mPython Enhancement Proposal\u001b[39m\u001b[38;5;124m\"\u001b[39m,\n\u001b[1;32m     34\u001b[0m     \u001b[38;5;124m\"\u001b[39m\u001b[38;5;124mGIL\u001b[39m\u001b[38;5;124m\"\u001b[39m: \u001b[38;5;124m\"\u001b[39m\u001b[38;5;124mGlobal Interpreter Lock\u001b[39m\u001b[38;5;124m\"\u001b[39m,\n\u001b[0;32m   (...)\u001b[0m\n\u001b[1;32m     43\u001b[0m     \n\u001b[1;32m     44\u001b[0m }\n",
      "File \u001b[0;32m~/Documents/GitHub/Python_Collections-/Acronyms.py:8\u001b[0m, in \u001b[0;36mdisplay_title\u001b[0;34m(title)\u001b[0m\n\u001b[1;32m      7\u001b[0m \u001b[38;5;28;01mdef\u001b[39;00m \u001b[38;5;21mdisplay_title\u001b[39m(title):\n\u001b[0;32m----> 8\u001b[0m     ascii_art \u001b[38;5;241m=\u001b[39m pyfiglet\u001b[38;5;241m.\u001b[39mfiglet_format(title)\n\u001b[1;32m      9\u001b[0m     \u001b[38;5;28mprint\u001b[39m(ascii_art)\n",
      "\u001b[0;31mAttributeError\u001b[0m: module 'pyfiglet' has no attribute 'figlet_format'"
     ]
    }
   ],
   "source": [
    "%run Acronyms.py\n"
   ]
  },
  {
   "cell_type": "code",
   "execution_count": 6,
   "id": "f6076e52-7a59-4447-93d5-d8e7142acc06",
   "metadata": {},
   "outputs": [
    {
     "name": "stdout",
     "output_type": "stream",
     "text": [
      "\u001b[33mDEPRECATION: Loading egg at /home/sigma69/anaconda3/lib/python3.12/site-packages/tensorflow_examples-0.1737579045.311121827000533153813667172443555370901945257906-py3.12.egg is deprecated. pip 25.1 will enforce this behaviour change. A possible replacement is to use pip for package installation. Discussion can be found at https://github.com/pypa/pip/issues/12330\u001b[0m\u001b[33m\n",
      "\u001b[0m\u001b[33mDEPRECATION: Loading egg at /home/sigma69/anaconda3/lib/python3.12/site-packages/tensorflow_examples-0.1738683835.377626100990979502159587917924824096723940145368-py3.12.egg is deprecated. pip 25.1 will enforce this behaviour change. A possible replacement is to use pip for package installation. Discussion can be found at https://github.com/pypa/pip/issues/12330\u001b[0m\u001b[33m\n",
      "\u001b[0mCollecting pyfiglet\n",
      "  Using cached pyfiglet-1.0.2-py3-none-any.whl.metadata (7.1 kB)\n",
      "Using cached pyfiglet-1.0.2-py3-none-any.whl (1.1 MB)\n",
      "Installing collected packages: pyfiglet\n",
      "Successfully installed pyfiglet-1.0.2\n"
     ]
    }
   ],
   "source": [
    "!pip install pyfiglet"
   ]
  },
  {
   "cell_type": "code",
   "execution_count": null,
   "id": "df0283b2-26c8-4ae8-9f98-e5f0bd528dc2",
   "metadata": {},
   "outputs": [],
   "source": []
  }
 ],
 "metadata": {
  "kernelspec": {
   "display_name": "Python 3 (ipykernel)",
   "language": "python",
   "name": "python3"
  },
  "language_info": {
   "codemirror_mode": {
    "name": "ipython",
    "version": 3
   },
   "file_extension": ".py",
   "mimetype": "text/x-python",
   "name": "python",
   "nbconvert_exporter": "python",
   "pygments_lexer": "ipython3",
   "version": "3.12.2"
  }
 },
 "nbformat": 4,
 "nbformat_minor": 5
}
