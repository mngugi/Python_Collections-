{
 "cells": [
  {
   "cell_type": "code",
   "execution_count": 6,
   "id": "2d2b300d-30a0-4af7-a36d-1cc809495ece",
   "metadata": {},
   "outputs": [],
   "source": [
    "import turtle\n",
    "\n",
    "turt = turtle.Turtle()\n",
    "\n",
    "colors = [\"purple\",\"green\", \"blue\",\"red\",\"yellow\",\"cyan\"]\n",
    "\n",
    "for i in range(6):\n",
    "    turt.color(colors[i])\n",
    "    for _ in range(5):\n",
    "        turt.forward(100)\n",
    "        turt.right(72)\n",
    "    turt.right(60)\n",
    "\n",
    "turtle.done()\n",
    "    "
   ]
  },
  {
   "cell_type": "code",
   "execution_count": 4,
   "id": "13c84594-d587-454b-a764-904e02148414",
   "metadata": {},
   "outputs": [
    {
     "name": "stdout",
     "output_type": "stream",
     "text": [
      "split ous from moussasos \n",
      "['m', 'sasosa']\n",
      "join ous from moussasos \n",
      "-----------------------\n",
      "moussasosa\n",
      "['o', 'u', 'a', 'o', 'a']\n",
      "['m', 's', 's', 's', 's']\n"
     ]
    }
   ],
   "source": [
    "%run Characters.py"
   ]
  },
  {
   "cell_type": "code",
   "execution_count": null,
   "id": "81f1457d-e91f-4627-94e1-eea531173f84",
   "metadata": {},
   "outputs": [],
   "source": []
  }
 ],
 "metadata": {
  "kernelspec": {
   "display_name": "Python 3 (ipykernel)",
   "language": "python",
   "name": "python3"
  },
  "language_info": {
   "codemirror_mode": {
    "name": "ipython",
    "version": 3
   },
   "file_extension": ".py",
   "mimetype": "text/x-python",
   "name": "python",
   "nbconvert_exporter": "python",
   "pygments_lexer": "ipython3",
   "version": "3.13.5"
  }
 },
 "nbformat": 4,
 "nbformat_minor": 5
}
