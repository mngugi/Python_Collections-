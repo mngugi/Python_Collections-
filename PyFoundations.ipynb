{
 "cells": [
  {
   "cell_type": "code",
   "execution_count": 2,
   "id": "ea236b6a-2851-4728-b6c4-7ab4e5fe7fde",
   "metadata": {},
   "outputs": [
    {
     "name": "stdout",
     "output_type": "stream",
     "text": [
      "Her age is 25 years, name is jane, and her height is 4.9 inches tall.\n"
     ]
    }
   ],
   "source": [
    "# 1. Data types and variables\n",
    "\n",
    "age = 25 # years age\n",
    "name = \"jane\"\n",
    "\n",
    "Straightheight = 4.9 # float \n",
    "\n",
    "print(f'Her age is {age} years, name is {name}, and her height is {Straightheight} inches tall.')\n"
   ]
  },
  {
   "cell_type": "code",
   "execution_count": 3,
   "id": "b554bf98-1c2f-4772-8bba-835aed5ffa33",
   "metadata": {},
   "outputs": [
    {
     "name": "stdout",
     "output_type": "stream",
     "text": [
      "0 is an even number.\n",
      "2 is an even number.\n",
      "4 is an even number.\n",
      "6 is an even number.\n",
      "8 is an even number.\n",
      "10 is an even number.\n",
      "12 is an even number.\n",
      "14 is an even number.\n",
      "16 is an even number.\n",
      "18 is an even number.\n"
     ]
    }
   ],
   "source": [
    "# 2. Control Structures\n",
    "\n",
    "i = 20 \n",
    "for i in range(20):\n",
    "    if i % 2 == 0:\n",
    "        print(f\"{i} is an even number.\")"
   ]
  },
  {
   "cell_type": "code",
   "execution_count": 12,
   "id": "3907c3a1-03e7-40b1-aeb2-4f529a4753f5",
   "metadata": {},
   "outputs": [
    {
     "name": "stdout",
     "output_type": "stream",
     "text": [
      "Three-sided figure: Triangle\n"
     ]
    }
   ],
   "source": [
    "# function \n",
    "\n",
    "def shape(shape_name):\n",
    "    \n",
    "    \n",
    "    return f\"Three-sided figure: {shape_name.strip()}\"\n",
    "\n",
    "print(shape(\" Triangle\"))\n",
    "    "
   ]
  },
  {
   "cell_type": "code",
   "execution_count": 13,
   "id": "4f85f8cb-d08a-4eae-a32c-3109298eb8b5",
   "metadata": {},
   "outputs": [
    {
     "ename": "NameError",
     "evalue": "name 'sides' is not defined",
     "output_type": "error",
     "traceback": [
      "\u001b[0;31m---------------------------------------------------------------------------\u001b[0m",
      "\u001b[0;31mNameError\u001b[0m                                 Traceback (most recent call last)",
      "Cell \u001b[0;32mIn[13], line 10\u001b[0m\n\u001b[1;32m      7\u001b[0m         \u001b[38;5;28mprint\u001b[39m(\u001b[38;5;124mf\u001b[39m\u001b[38;5;124m\"\u001b[39m\u001b[38;5;124mHi have a name\u001b[39m\u001b[38;5;132;01m{\u001b[39;00mname\u001b[38;5;132;01m}\u001b[39;00m\u001b[38;5;124m and i have three sides\u001b[39m\u001b[38;5;132;01m{\u001b[39;00msides\u001b[38;5;132;01m}\u001b[39;00m\u001b[38;5;124m.\u001b[39m\u001b[38;5;124m\"\u001b[39m)\n\u001b[1;32m      9\u001b[0m geometric_Shapes \u001b[38;5;241m=\u001b[39m Geometric_Shapes(\u001b[38;5;124m\"\u001b[39m\u001b[38;5;124mTriangle\u001b[39m\u001b[38;5;124m\"\u001b[39m, \u001b[38;5;241m3\u001b[39m )\n\u001b[0;32m---> 10\u001b[0m geometric_Shapes\u001b[38;5;241m.\u001b[39mFigures()\n",
      "Cell \u001b[0;32mIn[13], line 7\u001b[0m, in \u001b[0;36mGeometric_Shapes.Figures\u001b[0;34m(self)\u001b[0m\n\u001b[1;32m      6\u001b[0m \u001b[38;5;28;01mdef\u001b[39;00m \u001b[38;5;21mFigures\u001b[39m(\u001b[38;5;28mself\u001b[39m):\n\u001b[0;32m----> 7\u001b[0m     \u001b[38;5;28mprint\u001b[39m(\u001b[38;5;124mf\u001b[39m\u001b[38;5;124m\"\u001b[39m\u001b[38;5;124mHi have a name\u001b[39m\u001b[38;5;132;01m{\u001b[39;00mname\u001b[38;5;132;01m}\u001b[39;00m\u001b[38;5;124m and i have three sides\u001b[39m\u001b[38;5;132;01m{\u001b[39;00msides\u001b[38;5;132;01m}\u001b[39;00m\u001b[38;5;124m.\u001b[39m\u001b[38;5;124m\"\u001b[39m)\n",
      "\u001b[0;31mNameError\u001b[0m: name 'sides' is not defined"
     ]
    }
   ],
   "source": [
    "\n",
    "class Geometric_Shapes:\n",
    "    def __init__(self, name, sides):\n",
    "        self.name = name\n",
    "        self.sides = sides\n",
    "\n",
    "    def Figures(self):\n",
    "        print(f\"Hi have a name{name} and i have three sides{sides}.\")\n",
    "\n",
    "geometric_Shapes = Geometric_Shapes(\"Triangle\", 3 )\n",
    "geometric_Shapes.Figures()\n",
    "\n",
    "    "
   ]
  },
  {
   "cell_type": "code",
   "execution_count": null,
   "id": "7fbe4f1b-1ab6-4af1-ba93-fee2b8bfb663",
   "metadata": {},
   "outputs": [],
   "source": []
  }
 ],
 "metadata": {
  "kernelspec": {
   "display_name": "Python 3 (ipykernel)",
   "language": "python",
   "name": "python3"
  },
  "language_info": {
   "codemirror_mode": {
    "name": "ipython",
    "version": 3
   },
   "file_extension": ".py",
   "mimetype": "text/x-python",
   "name": "python",
   "nbconvert_exporter": "python",
   "pygments_lexer": "ipython3",
   "version": "3.12.7"
  }
 },
 "nbformat": 4,
 "nbformat_minor": 5
}
