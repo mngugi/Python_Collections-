{
 "cells": [
  {
   "cell_type": "code",
   "execution_count": null,
   "id": "ea236b6a-2851-4728-b6c4-7ab4e5fe7fde",
   "metadata": {},
   "outputs": [],
   "source": [
    "# Data types and variables\n",
    "\n",
    "age = 25 # years age\n",
    "name = \"jane\"\n",
    "\n",
    "Straightheight = 4.9 # float \n",
    "\n",
    "print(f'Her age is {age}, name is {name}, and her height is {Straightheight}inches tall.')\n"
   ]
  }
 ],
 "metadata": {
  "kernelspec": {
   "display_name": "Python 3 (ipykernel)",
   "language": "python",
   "name": "python3"
  },
  "language_info": {
   "codemirror_mode": {
    "name": "ipython",
    "version": 3
   },
   "file_extension": ".py",
   "mimetype": "text/x-python",
   "name": "python",
   "nbconvert_exporter": "python",
   "pygments_lexer": "ipython3",
   "version": "3.12.7"
  }
 },
 "nbformat": 4,
 "nbformat_minor": 5
}
