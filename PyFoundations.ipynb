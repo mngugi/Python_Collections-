{
 "cells": [
  {
   "cell_type": "code",
   "execution_count": 2,
   "id": "ea236b6a-2851-4728-b6c4-7ab4e5fe7fde",
   "metadata": {},
   "outputs": [
    {
     "name": "stdout",
     "output_type": "stream",
     "text": [
      "Her age is 25 years, name is jane, and her height is 4.9 inches tall.\n"
     ]
    }
   ],
   "source": [
    "# 1. Data types and variables\n",
    "\n",
    "age = 25 # years age\n",
    "name = \"jane\"\n",
    "\n",
    "Straightheight = 4.9 # float \n",
    "\n",
    "print(f'Her age is {age} years, name is {name}, and her height is {Straightheight} inches tall.')\n"
   ]
  },
  {
   "cell_type": "code",
   "execution_count": 3,
   "id": "b554bf98-1c2f-4772-8bba-835aed5ffa33",
   "metadata": {},
   "outputs": [
    {
     "name": "stdout",
     "output_type": "stream",
     "text": [
      "0 is an even number.\n",
      "2 is an even number.\n",
      "4 is an even number.\n",
      "6 is an even number.\n",
      "8 is an even number.\n",
      "10 is an even number.\n",
      "12 is an even number.\n",
      "14 is an even number.\n",
      "16 is an even number.\n",
      "18 is an even number.\n"
     ]
    }
   ],
   "source": [
    "# 2. Control Structures\n",
    "\n",
    "i = 20 \n",
    "for i in range(20):\n",
    "    if i % 2 == 0:\n",
    "        print(f\"{i} is an even number.\")"
   ]
  },
  {
   "cell_type": "code",
   "execution_count": 12,
   "id": "3907c3a1-03e7-40b1-aeb2-4f529a4753f5",
   "metadata": {},
   "outputs": [
    {
     "name": "stdout",
     "output_type": "stream",
     "text": [
      "Three-sided figure: Triangle\n"
     ]
    }
   ],
   "source": [
    "# function \n",
    "\n",
    "def shape(shape_name):\n",
    "    \n",
    "    \n",
    "    return f\"Three-sided figure: {shape_name.strip()}\"\n",
    "\n",
    "print(shape(\" Triangle\"))\n",
    "    "
   ]
  },
  {
   "cell_type": "code",
   "execution_count": 15,
   "id": "4f85f8cb-d08a-4eae-a32c-3109298eb8b5",
   "metadata": {},
   "outputs": [
    {
     "name": "stdout",
     "output_type": "stream",
     "text": [
      "Hi have a name called  Triangle and i have three sides3.\n"
     ]
    }
   ],
   "source": [
    "\n",
    "class Geometric_Shapes:\n",
    "    def __init__(self, name, sides):\n",
    "        self.name = name\n",
    "        self.sides = sides\n",
    "\n",
    "    def Figures(self):\n",
    "        print(f\"Hi have a name called {self.name} and i have three sides{self.sides}.\")\n",
    "\n",
    "geometric_Shapes = Geometric_Shapes(\"Triangle\", 3 )\n",
    "geometric_Shapes.Figures()\n",
    "\n",
    "    "
   ]
  },
  {
   "cell_type": "code",
   "execution_count": 16,
   "id": "7fbe4f1b-1ab6-4af1-ba93-fee2b8bfb663",
   "metadata": {},
   "outputs": [
    {
     "name": "stdout",
     "output_type": "stream",
     "text": [
      "Zero by Zero is undefined\n"
     ]
    }
   ],
   "source": [
    "# Error handling \n",
    "\n",
    "try:\n",
    "    result = 0/0\n",
    "\n",
    "except ZeroDivisionError:\n",
    "    print(\"Zero by Zero is undefined\")"
   ]
  },
  {
   "cell_type": "code",
   "execution_count": 17,
   "id": "bb0dbd8a-fd8d-450a-9cdf-1b6840dd3467",
   "metadata": {},
   "outputs": [],
   "source": [
    "\n",
    "# File Handling\n",
    "with open (\"remove1.txt\", \"w\") as file :\n",
    "    file.write(\"File handling\")"
   ]
  },
  {
   "cell_type": "code",
   "execution_count": 19,
   "id": "d1600950-2268-47e2-b095-c508c9da6b41",
   "metadata": {},
   "outputs": [
    {
     "name": "stdout",
     "output_type": "stream",
     "text": [
      "93326215443944152681699238856266700490715968264381621468592963895217599993229915608941463976156518286253697920827223758251185210916864000000000000000000000000\n"
     ]
    }
   ],
   "source": [
    "# math module\n",
    "import math\n",
    "\n",
    "print(math.factorial(100))"
   ]
  },
  {
   "cell_type": "code",
   "execution_count": 27,
   "id": "90c1fc49-e3ef-458e-b569-bed55d61ed92",
   "metadata": {},
   "outputs": [
    {
     "name": "stdout",
     "output_type": "stream",
     "text": [
      "squares: {1: 1, 2: 4, 3: 9, 4: 16}\n",
      "cubes: {1: 1, 2: 8, 3: 27, 4: 64}\n"
     ]
    }
   ],
   "source": [
    "# Data structures \n",
    "numbers = [1, 2, 3, 4]\n",
    "squares = {n: n**2 for n in numbers}\n",
    "cubic = {k: k**3 for k in numbers}\n",
    "print(f'squares: {squares}')\n",
    "print(f'cubes: {cubic}')"
   ]
  },
  {
   "cell_type": "code",
   "execution_count": 28,
   "id": "7f45a6d3-1952-4cfb-b236-a1efde9b0514",
   "metadata": {},
   "outputs": [
    {
     "name": "stdout",
     "output_type": "stream",
     "text": [
      "[0, 2, 4, 6, 8]\n"
     ]
    }
   ],
   "source": [
    "# list comprehensions\n",
    "even_numbers = [x for x in range(10) if x % 2 == 0]\n",
    "print(even_numbers)"
   ]
  },
  {
   "cell_type": "code",
   "execution_count": 30,
   "id": "925ba3d0-0785-4f6a-9d91-a9d99f164088",
   "metadata": {},
   "outputs": [
    {
     "name": "stdout",
     "output_type": "stream",
     "text": [
      "0\n",
      "1\n",
      "1\n",
      "2\n",
      "3\n",
      "5\n",
      "8\n",
      "13\n",
      "21\n",
      "34\n"
     ]
    }
   ],
   "source": [
    "# iterations and generators\n",
    "def fibonacci(n):\n",
    "    i,j = 0 , 1\n",
    "    for _ in range(n):\n",
    "        yield i\n",
    "        i, j = j, i+j\n",
    "\n",
    "for num in fibonacci(10):\n",
    "    print(num)"
   ]
  },
  {
   "cell_type": "code",
   "execution_count": null,
   "id": "ceab8e43-9e60-41a6-baaa-964c2a2a458c",
   "metadata": {},
   "outputs": [],
   "source": []
  }
 ],
 "metadata": {
  "kernelspec": {
   "display_name": "Python 3 (ipykernel)",
   "language": "python",
   "name": "python3"
  },
  "language_info": {
   "codemirror_mode": {
    "name": "ipython",
    "version": 3
   },
   "file_extension": ".py",
   "mimetype": "text/x-python",
   "name": "python",
   "nbconvert_exporter": "python",
   "pygments_lexer": "ipython3",
   "version": "3.12.7"
  }
 },
 "nbformat": 4,
 "nbformat_minor": 5
}
