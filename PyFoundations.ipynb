{
 "cells": [
  {
   "cell_type": "code",
   "execution_count": 2,
   "id": "ea236b6a-2851-4728-b6c4-7ab4e5fe7fde",
   "metadata": {},
   "outputs": [
    {
     "name": "stdout",
     "output_type": "stream",
     "text": [
      "Her age is 25 years, name is jane, and her height is 4.9 inches tall.\n"
     ]
    }
   ],
   "source": [
    "# 1. Data types and variables\n",
    "\n",
    "age = 25 # years age\n",
    "name = \"jane\"\n",
    "\n",
    "Straightheight = 4.9 # float \n",
    "\n",
    "print(f'Her age is {age} years, name is {name}, and her height is {Straightheight} inches tall.')\n"
   ]
  },
  {
   "cell_type": "code",
   "execution_count": 3,
   "id": "b554bf98-1c2f-4772-8bba-835aed5ffa33",
   "metadata": {},
   "outputs": [
    {
     "name": "stdout",
     "output_type": "stream",
     "text": [
      "0 is an even number.\n",
      "2 is an even number.\n",
      "4 is an even number.\n",
      "6 is an even number.\n",
      "8 is an even number.\n",
      "10 is an even number.\n",
      "12 is an even number.\n",
      "14 is an even number.\n",
      "16 is an even number.\n",
      "18 is an even number.\n"
     ]
    }
   ],
   "source": [
    "# 2. Control Structures\n",
    "\n",
    "i = 20 \n",
    "for i in range(20):\n",
    "    if i % 2 == 0:\n",
    "        print(f\"{i} is an even number.\")"
   ]
  },
  {
   "cell_type": "code",
   "execution_count": 12,
   "id": "3907c3a1-03e7-40b1-aeb2-4f529a4753f5",
   "metadata": {},
   "outputs": [
    {
     "name": "stdout",
     "output_type": "stream",
     "text": [
      "Three-sided figure: Triangle\n"
     ]
    }
   ],
   "source": [
    "# function \n",
    "\n",
    "def shape(shape_name):\n",
    "    \n",
    "    \n",
    "    return f\"Three-sided figure: {shape_name.strip()}\"\n",
    "\n",
    "print(shape(\" Triangle\"))\n",
    "    "
   ]
  },
  {
   "cell_type": "code",
   "execution_count": 15,
   "id": "4f85f8cb-d08a-4eae-a32c-3109298eb8b5",
   "metadata": {},
   "outputs": [
    {
     "name": "stdout",
     "output_type": "stream",
     "text": [
      "Hi have a name called  Triangle and i have three sides3.\n"
     ]
    }
   ],
   "source": [
    "\n",
    "class Geometric_Shapes:\n",
    "    def __init__(self, name, sides):\n",
    "        self.name = name\n",
    "        self.sides = sides\n",
    "\n",
    "    def Figures(self):\n",
    "        print(f\"Hi have a name called {self.name} and i have three sides{self.sides}.\")\n",
    "\n",
    "geometric_Shapes = Geometric_Shapes(\"Triangle\", 3 )\n",
    "geometric_Shapes.Figures()\n",
    "\n",
    "    "
   ]
  },
  {
   "cell_type": "code",
   "execution_count": 16,
   "id": "7fbe4f1b-1ab6-4af1-ba93-fee2b8bfb663",
   "metadata": {},
   "outputs": [
    {
     "name": "stdout",
     "output_type": "stream",
     "text": [
      "Zero by Zero is undefined\n"
     ]
    }
   ],
   "source": [
    "# Error handling \n",
    "\n",
    "try:\n",
    "    result = 0/0\n",
    "\n",
    "except ZeroDivisionError:\n",
    "    print(\"Zero by Zero is undefined\")"
   ]
  },
  {
   "cell_type": "code",
   "execution_count": null,
   "id": "bb0dbd8a-fd8d-450a-9cdf-1b6840dd3467",
   "metadata": {},
   "outputs": [],
   "source": [
    "\n",
    "# File Handling\n",
    "with open (\"remove1.txt\", \"w\") as file :\n",
    "    file.write(\"File handling\")"
   ]
  }
 ],
 "metadata": {
  "kernelspec": {
   "display_name": "Python 3 (ipykernel)",
   "language": "python",
   "name": "python3"
  },
  "language_info": {
   "codemirror_mode": {
    "name": "ipython",
    "version": 3
   },
   "file_extension": ".py",
   "mimetype": "text/x-python",
   "name": "python",
   "nbconvert_exporter": "python",
   "pygments_lexer": "ipython3",
   "version": "3.12.7"
  }
 },
 "nbformat": 4,
 "nbformat_minor": 5
}
