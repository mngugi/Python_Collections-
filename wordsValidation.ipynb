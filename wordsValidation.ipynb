{
 "cells": [
  {
   "cell_type": "code",
   "execution_count": 3,
   "id": "856090f2-e296-4803-b7f0-368cd40d5c38",
   "metadata": {},
   "outputs": [
    {
     "name": "stdout",
     "output_type": "stream",
     "text": [
      "True\n",
      "True\n",
      "False\n"
     ]
    }
   ],
   "source": [
    "\n",
    "\n",
    "def anagram(word1, word2):\n",
    "    try: \n",
    "        word1 = word1.lower()\n",
    "        word2 = word2.lower()\n",
    "        return sorted(word1) == sorted(word2)\n",
    "    except ValueError:\n",
    "        pass    \n",
    "\n",
    "print(anagram(\"peter\", \"eterp\"))\n",
    "print(anagram(\"crank\", \"kancr\"))\n",
    "print(anagram(\"chopper\", \"copper\"))\n",
    "\n"
   ]
  },
  {
   "cell_type": "code",
   "execution_count": null,
   "id": "ae8ce826-c05c-4329-91ec-3a59f68b9da7",
   "metadata": {},
   "outputs": [],
   "source": []
  }
 ],
 "metadata": {
  "kernelspec": {
   "display_name": "Python 3 (ipykernel)",
   "language": "python",
   "name": "python3"
  },
  "language_info": {
   "codemirror_mode": {
    "name": "ipython",
    "version": 3
   },
   "file_extension": ".py",
   "mimetype": "text/x-python",
   "name": "python",
   "nbconvert_exporter": "python",
   "pygments_lexer": "ipython3",
   "version": "3.12.2"
  }
 },
 "nbformat": 4,
 "nbformat_minor": 5
}
