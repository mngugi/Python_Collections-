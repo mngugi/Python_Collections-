{
 "cells": [
  {
   "cell_type": "code",
   "execution_count": 2,
   "id": "99c5ec99-e8ed-4649-aafb-16ce47aa08ab",
   "metadata": {},
   "outputs": [],
   "source": [
    "from guizero import App, PushButton, Text\n",
    "\n",
    "def say_hello():\n",
    "    text.value = \"Hello, World!\"\n",
    "\n",
    "app = App(title=\"Hello World\")\n",
    "\n",
    "# Create a button and specify its behavior (command) when clicked\n",
    "button = PushButton(app, text=\"Say Hello\", command=say_hello)\n",
    "\n",
    "# Create a text element to display the message\n",
    "text = Text(app, text=\"\")\n",
    "\n",
    "app.display()\n"
   ]
  },
  {
   "cell_type": "code",
   "execution_count": null,
   "id": "17700987-a838-4350-be73-dc0d94faba38",
   "metadata": {},
   "outputs": [],
   "source": []
  },
  {
   "cell_type": "code",
   "execution_count": null,
   "id": "57ef7b57-2c86-4138-a59e-d73c59a6eed4",
   "metadata": {},
   "outputs": [],
   "source": []
  }
 ],
 "metadata": {
  "kernelspec": {
   "display_name": ".venv",
   "language": "python",
   "name": "python3"
  },
  "language_info": {
   "codemirror_mode": {
    "name": "ipython",
    "version": 3
   },
   "file_extension": ".py",
   "mimetype": "text/x-python",
   "name": "python",
   "nbconvert_exporter": "python",
   "pygments_lexer": "ipython3",
   "version": "3.10.12"
  }
 },
 "nbformat": 4,
 "nbformat_minor": 5
}
