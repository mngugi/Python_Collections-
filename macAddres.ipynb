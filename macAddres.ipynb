{
 "cells": [
  {
   "cell_type": "code",
   "execution_count": 2,
   "id": "223b5912-ed6e-4a8f-88e1-6f0972e1d5a3",
   "metadata": {},
   "outputs": [
    {
     "name": "stdout",
     "output_type": "stream",
     "text": [
      "0xb222d3973b7f\n"
     ]
    }
   ],
   "source": [
    "import uuid\n",
    "\n",
    "macAd= uuid.getnode()\n",
    "print(hex(macAd))"
   ]
  },
  {
   "cell_type": "code",
   "execution_count": null,
   "id": "7e35d327-4f24-4b3b-a59f-8ee9639590da",
   "metadata": {},
   "outputs": [],
   "source": []
  }
 ],
 "metadata": {
  "kernelspec": {
   "display_name": "Python 3 (ipykernel)",
   "language": "python",
   "name": "python3"
  },
  "language_info": {
   "codemirror_mode": {
    "name": "ipython",
    "version": 3
   },
   "file_extension": ".py",
   "mimetype": "text/x-python",
   "name": "python",
   "nbconvert_exporter": "python",
   "pygments_lexer": "ipython3",
   "version": "3.12.2"
  }
 },
 "nbformat": 4,
 "nbformat_minor": 5
}
