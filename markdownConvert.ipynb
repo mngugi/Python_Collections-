{
 "cells": [
  {
   "cell_type": "code",
   "execution_count": null,
   "id": "02c6cc61-1602-424d-a64e-47c5b7be1f08",
   "metadata": {},
   "outputs": [
    {
     "name": "stdout",
     "output_type": "stream",
     "text": [
      "Defaulting to user installation because normal site-packages is not writeable\n",
      "Collecting markitdown\n",
      "  Downloading markitdown-0.1.2-py3-none-any.whl.metadata (4.0 kB)\n",
      "Requirement already satisfied: beautifulsoup4 in /usr/lib/python3.13/site-packages (from markitdown) (4.13.4)\n",
      "Requirement already satisfied: charset-normalizer in /usr/lib/python3.13/site-packages (from markitdown) (3.4.1)\n",
      "Requirement already satisfied: defusedxml in /usr/lib/python3.13/site-packages (from markitdown) (0.7.1)\n",
      "Collecting magika~=0.6.1 (from markitdown)\n",
      "  Downloading magika-0.6.2-py3-none-manylinux_2_28_x86_64.whl.metadata (15 kB)\n",
      "Collecting markdownify (from markitdown)\n",
      "  Downloading markdownify-1.1.0-py3-none-any.whl.metadata (9.1 kB)\n",
      "Requirement already satisfied: requests in /usr/lib/python3.13/site-packages (from markitdown) (2.32.3)\n",
      "Requirement already satisfied: click>=8.1.7 in /usr/lib/python3.13/site-packages (from magika~=0.6.1->markitdown) (8.1.7)\n",
      "Collecting onnxruntime>=1.17.0 (from magika~=0.6.1->markitdown)\n",
      "  Downloading onnxruntime-1.22.0-cp313-cp313-manylinux_2_27_x86_64.manylinux_2_28_x86_64.whl.metadata (4.8 kB)\n",
      "Requirement already satisfied: numpy>=2.1.0 in /usr/lib64/python3.13/site-packages (from magika~=0.6.1->markitdown) (2.2.6)\n",
      "Collecting python-dotenv>=1.0.1 (from magika~=0.6.1->markitdown)\n",
      "  Downloading python_dotenv-1.1.0-py3-none-any.whl.metadata (24 kB)\n",
      "Requirement already satisfied: soupsieve>1.2 in /usr/lib/python3.13/site-packages (from beautifulsoup4->markitdown) (2.7)\n",
      "Requirement already satisfied: typing-extensions>=4.0.0 in /usr/lib/python3.13/site-packages (from beautifulsoup4->markitdown) (4.12.2)\n",
      "Requirement already satisfied: six<2,>=1.15 in /usr/lib/python3.13/site-packages (from markdownify->markitdown) (1.17.0)\n",
      "Requirement already satisfied: idna<4,>=2.5 in /usr/lib/python3.13/site-packages (from requests->markitdown) (3.10)\n",
      "Requirement already satisfied: urllib3<3,>=1.21.1 in /usr/lib/python3.13/site-packages (from requests->markitdown) (2.3.0)\n",
      "Collecting coloredlogs (from onnxruntime>=1.17.0->magika~=0.6.1->markitdown)\n",
      "  Downloading coloredlogs-15.0.1-py2.py3-none-any.whl.metadata (12 kB)\n",
      "Collecting flatbuffers (from onnxruntime>=1.17.0->magika~=0.6.1->markitdown)\n",
      "  Downloading flatbuffers-25.2.10-py2.py3-none-any.whl.metadata (875 bytes)\n",
      "Requirement already satisfied: packaging in /usr/lib/python3.13/site-packages (from onnxruntime>=1.17.0->magika~=0.6.1->markitdown) (24.2)\n"
     ]
    }
   ],
   "source": [
    "!pip install markitdown"
   ]
  },
  {
   "cell_type": "code",
   "execution_count": 2,
   "id": "337a9c79-334c-4da7-adc0-b1fa05d15b35",
   "metadata": {},
   "outputs": [
    {
     "ename": "ModuleNotFoundError",
     "evalue": "No module named 'markitdown'",
     "output_type": "error",
     "traceback": [
      "\u001b[0;31m---------------------------------------------------------------------------\u001b[0m",
      "\u001b[0;31mModuleNotFoundError\u001b[0m                       Traceback (most recent call last)",
      "Cell \u001b[0;32mIn[2], line 1\u001b[0m\n\u001b[0;32m----> 1\u001b[0m \u001b[38;5;28;01mfrom\u001b[39;00m \u001b[38;5;21;01mmarkitdown\u001b[39;00m \u001b[38;5;28;01mimport\u001b[39;00m MarkItDown\n",
      "\u001b[0;31mModuleNotFoundError\u001b[0m: No module named 'markitdown'"
     ]
    }
   ],
   "source": [
    "from markitdown import MarkItDown"
   ]
  },
  {
   "cell_type": "code",
   "execution_count": null,
   "id": "558a9a56-e23d-400b-a9dd-de3e2bc63dc2",
   "metadata": {},
   "outputs": [],
   "source": []
  }
 ],
 "metadata": {
  "kernelspec": {
   "display_name": "Python 3 (ipykernel)",
   "language": "python",
   "name": "python3"
  },
  "language_info": {
   "codemirror_mode": {
    "name": "ipython",
    "version": 3
   },
   "file_extension": ".py",
   "mimetype": "text/x-python",
   "name": "python",
   "nbconvert_exporter": "python",
   "pygments_lexer": "ipython3",
   "version": "3.13.3"
  }
 },
 "nbformat": 4,
 "nbformat_minor": 5
}
