{
 "cells": [
  {
   "cell_type": "code",
   "execution_count": 7,
   "id": "d51e9293-02d9-43e6-b8c5-d2a1a802375a",
   "metadata": {},
   "outputs": [
    {
     "name": "stdout",
     "output_type": "stream",
     "text": [
      "Data shapes: (120, 120) (120, 120) (120, 120)\n"
     ]
    }
   ],
   "source": [
    "import numpy as np\n",
    "from matplotlib import cm\n",
    "from mpl_toolkits.mplot3d.axes3d import get_test_data\n",
    "\n",
    "# Example usage\n",
    "X, Y, Z = get_test_data(0.05)\n",
    "print(\"Data shapes:\", X.shape, Y.shape, Z.shape)\n"
   ]
  },
  {
   "cell_type": "code",
   "execution_count": 8,
   "id": "4b73ded8-7243-4cb5-9155-bfa6d028ab8e",
   "metadata": {},
   "outputs": [
    {
     "ename": "NameError",
     "evalue": "name 'fig' is not defined",
     "output_type": "error",
     "traceback": [
      "\u001b[0;31m---------------------------------------------------------------------------\u001b[0m",
      "\u001b[0;31mNameError\u001b[0m                                 Traceback (most recent call last)",
      "Cell \u001b[0;32mIn[8], line 4\u001b[0m\n\u001b[1;32m      1\u001b[0m \u001b[38;5;66;03m# Twice as wide as it is tall. fig = plt.figure(figsize=plt.figaspect(0.5))  \u001b[39;00m\n\u001b[1;32m      2\u001b[0m \u001b[38;5;66;03m#---- First subplot # Note that the declaration \"projection='3d'\"\u001b[39;00m\n\u001b[1;32m      3\u001b[0m \u001b[38;5;66;03m# is required for 3d plots! \u001b[39;00m\n\u001b[0;32m----> 4\u001b[0m ax \u001b[38;5;241m=\u001b[39m fig\u001b[38;5;241m.\u001b[39madd_subplot(\u001b[38;5;241m1\u001b[39m, \u001b[38;5;241m2\u001b[39m, \u001b[38;5;241m1\u001b[39m, projection\u001b[38;5;241m=\u001b[39m\u001b[38;5;124m'\u001b[39m\u001b[38;5;124m3d\u001b[39m\u001b[38;5;124m'\u001b[39m)  \n\u001b[1;32m      5\u001b[0m \u001b[38;5;66;03m# Generate the grid \u001b[39;00m\n\u001b[1;32m      6\u001b[0m X \u001b[38;5;241m=\u001b[39m np\u001b[38;5;241m.\u001b[39marange(\u001b[38;5;241m-\u001b[39m\u001b[38;5;241m5\u001b[39m, \u001b[38;5;241m5\u001b[39m, \u001b[38;5;241m0.1\u001b[39m) \n",
      "\u001b[0;31mNameError\u001b[0m: name 'fig' is not defined"
     ]
    }
   ],
   "source": [
    "# Twice as wide as it is tall. fig = plt.figure(figsize=plt.figaspect(0.5))  \n",
    "#---- First subplot # Note that the declaration \"projection='3d'\"\n",
    "# is required for 3d plots! \n",
    "ax = fig.add_subplot(1, 2, 1, projection='3d')  \n",
    "# Generate the grid \n",
    "X = np.arange(-5, 5, 0.1) \n",
    "Y = np.arange(-5, 5, 0.1)\n",
    "X, Y = np.meshgrid(X, Y)  \n",
    "# Generate the surface data \n",
    "R = np.sqrt(X**2 + Y**2) \n",
    "Z = np.sin(R)  \n",
    "# Plot the surface \n",
    "surf = ax.plot_surface(X, Y, Z, rstride=1, cstride=1, cmap=cm.GnBu, linewidth=0, antialiased=False) \n",
    "ax.set_zlim3d(-1.01, 1.01)  \n",
    "fig.colorbar(surf, shrink=0.5, aspect=10)  \n",
    "#---- Second subplot \n",
    "ax = fig.add_subplot(1, 2, 2, projection='3d')\n",
    "X, Y, Z = get_test_data(0.05) \n",
    "ax.plot_wireframe(X, Y, Z, rstride=10, cstride=10)  \n",
    "outfile = '3dGraph.png' \n",
    "plt.savefig(outfile, dpi=200) \n",
    "print('Image saved to {0}'.format(outfile))\n",
    "plt.show()"
   ]
  },
  {
   "cell_type": "code",
   "execution_count": null,
   "id": "81f2f8f8-cb89-4399-8db3-3fbf6d0f2b20",
   "metadata": {},
   "outputs": [],
   "source": []
  }
 ],
 "metadata": {
  "kernelspec": {
   "display_name": "Python 3 (ipykernel)",
   "language": "python",
   "name": "python3"
  },
  "language_info": {
   "codemirror_mode": {
    "name": "ipython",
    "version": 3
   },
   "file_extension": ".py",
   "mimetype": "text/x-python",
   "name": "python",
   "nbconvert_exporter": "python",
   "pygments_lexer": "ipython3",
   "version": "3.12.7"
  }
 },
 "nbformat": 4,
 "nbformat_minor": 5
}
