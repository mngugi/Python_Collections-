{
 "cells": [
  {
   "cell_type": "code",
   "execution_count": null,
   "id": "b0dda1ba-0ef5-4485-8c9b-15a5f9a0b8fe",
   "metadata": {},
   "outputs": [],
   "source": []
  },
  {
   "cell_type": "code",
   "execution_count": null,
   "id": "ed010045-87bd-4799-bab3-940210054160",
   "metadata": {},
   "outputs": [
    {
     "ename": "",
     "evalue": "",
     "output_type": "error",
     "traceback": [
      "\u001b[1;31mRunning cells with '.venv (Python 3.13.7)' requires the ipykernel package.\n",
      "\u001b[1;31mInstall 'ipykernel' into the Python environment. \n",
      "\u001b[1;31mCommand: '/home/alma86/Documents/GitHub/Python_Collections-/.venv/bin/python -m pip install ipykernel -U --force-reinstall'"
     ]
    }
   ],
   "source": [
    "import geopandas as gpd\n",
    "import pyfiglet # type: ignore\n",
    "\n",
    "def display_title(title):\n",
    "    ascii_art = pyfiglet.figlet_format(title)\n",
    "    print(ascii_art)\n",
    "\n",
    "if __name__ == \"__main__\":\n",
    "    display_title(\"Asia Storm Data\")\n",
    "\n",
    "shp_file_path = 'UNISYS_tracks_1956_2018Dec31.shp'\n",
    "\n",
    "# Read the shapefile into a GeoDataFrame\n",
    "gdf = gpd.read_file(shp_file_path)\n",
    "\n",
    "# Now, you should be able to access the attribute data\n",
    "print(gdf.head())  # To display the first few rows of the GeoDataFrame\n",
    "\n"
   ]
  },
  {
   "cell_type": "code",
   "execution_count": null,
   "id": "4223bb41-0e06-4f55-bfe4-dacd28a2f21b",
   "metadata": {},
   "outputs": [],
   "source": [
    "import shapefile\n",
    "\n",
    "# Check if the shapefile and its components are accessible\n",
    "try:\n",
    "    sf = shapefile.Reader(shp_path)\n",
    "    print(\"Shapefile successfully loaded.\")\n",
    "    print(f\"Number of shapes: {len(sf.shapes())}\")\n",
    "except shapefile.ShapefileException as e:\n",
    "    print(f\"Error loading shapefile: {e}\")\n"
   ]
  },
  {
   "cell_type": "code",
   "execution_count": null,
   "id": "fef12a68-d0c5-4b2f-9310-2ae8ec436649",
   "metadata": {},
   "outputs": [
    {
     "ename": "",
     "evalue": "",
     "output_type": "error",
     "traceback": [
      "\u001b[1;31mRunning cells with '.venv (Python 3.13.7)' requires the ipykernel package.\n",
      "\u001b[1;31mInstall 'ipykernel' into the Python environment. \n",
      "\u001b[1;31mCommand: '/home/alma86/Documents/GitHub/Python_Collections-/.venv/bin/python -m pip install ipykernel -U --force-reinstall'"
     ]
    }
   ],
   "source": [
    "!pip install gdal\n"
   ]
  },
  {
   "cell_type": "code",
   "execution_count": null,
   "id": "27a9d565-9399-408a-a159-db78dc45f488",
   "metadata": {},
   "outputs": [],
   "source": [
    "import shapefile\n",
    "\n",
    "# Define the path for the new shapefile\n",
    "shp_path = 'new_shapefile.shp'\n",
    "\n",
    "# Create a new shapefile\n",
    "with shapefile.Writer(shp_path) as writer:\n",
    "    # Define fields (schema for attributes)\n",
    "    writer.field('Name', 'C', size=50)  # 'C' for character type\n",
    "\n",
    "    # Add a record (example)\n",
    "    writer.record('Example Point')\n",
    "\n",
    "    # Add a geometry (e.g., point)\n",
    "    writer.point(10.0, 20.0)\n",
    "\n",
    "print(f\"Shapefile created at {shp_path}\")\n"
   ]
  },
  {
   "cell_type": "code",
   "execution_count": null,
   "id": "34bf2b1d-8301-4194-8108-102c97049fbc",
   "metadata": {},
   "outputs": [],
   "source": [
    "import shapefile\n",
    "\n",
    "\n",
    "shp_path = 'UNISYS_tracks_1956_2018Dec31.shp'\n",
    "shx_path = 'UNISYS_tracks_1956_2018Dec31.shx'\n",
    "\n",
    "# Create a .shx file if it doesn't exist\n",
    "with shapefile.Writer(shx_path):\n",
    "    pass\n"
   ]
  },
  {
   "cell_type": "code",
   "execution_count": null,
   "id": "e3045b26-c67f-468e-8659-78a5305331e6",
   "metadata": {},
   "outputs": [],
   "source": [
    "import geopandas as gpd\n",
    "\n",
    "shp_file_path = 'UNISYS_tracks_1956_2018Dec31.shp'\n",
    "\n",
    "# Read the shapefile into a GeoDataFrame\n",
    "gdf = gpd.read_file(shp_file_path)\n",
    "\n",
    "# Now, you should be able to access the attribute data\n",
    "print(gdf.head())  # To display the first few rows of the GeoDataFrame\n"
   ]
  },
  {
   "cell_type": "code",
   "execution_count": null,
   "id": "7c84fc20-d8e6-4fe4-a7c4-7593f2d8992c",
   "metadata": {},
   "outputs": [],
   "source": [
    "gdf.head()"
   ]
  },
  {
   "cell_type": "code",
   "execution_count": null,
   "id": "7dcda6cb-809c-41d0-895f-a858b8089469",
   "metadata": {},
   "outputs": [],
   "source": [
    "import pandas as pd\n",
    "import geopandas as gpd\n",
    "import numpy as np\n",
    "import seaborn as sns\n",
    "import matplotlib.pyplot as plt\n",
    "import plotly.express as px\n",
    "from scipy import stats\n",
    "\n",
    "shp_file_path = 'UNISYS_tracks_1956_2018Dec31.shp'\n",
    "\n",
    "# Read the shapefile into a GeoDataFrame\n",
    "gdf = gpd.read_file(shp_file_path)\n",
    "\n",
    "gdf.head()\n"
   ]
  },
  {
   "cell_type": "code",
   "execution_count": null,
   "id": "5e311534-ffd9-43da-b0be-1adb268b6bae",
   "metadata": {},
   "outputs": [],
   "source": [
    "!pip install seaborn"
   ]
  },
  {
   "cell_type": "code",
   "execution_count": null,
   "id": "d100a68c-4175-47ab-9e96-48b57e75e85b",
   "metadata": {},
   "outputs": [],
   "source": []
  }
 ],
 "metadata": {
  "kernelspec": {
   "display_name": ".venv",
   "language": "python",
   "name": "python3"
  },
  "language_info": {
   "codemirror_mode": {
    "name": "ipython",
    "version": 3
   },
   "file_extension": ".py",
   "mimetype": "text/x-python",
   "name": "python",
   "nbconvert_exporter": "python",
   "pygments_lexer": "ipython3",
   "version": "3.13.7"
  }
 },
 "nbformat": 4,
 "nbformat_minor": 5
}
