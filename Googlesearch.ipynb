{
 "cells": [
  {
   "cell_type": "code",
   "execution_count": 1,
   "id": "99461979-7f38-4212-950e-118f00d08300",
   "metadata": {},
   "outputs": [
    {
     "name": "stdout",
     "output_type": "stream",
     "text": [
      "Collecting google\n",
      "  Downloading google-3.0.0-py2.py3-none-any.whl.metadata (627 bytes)\n",
      "Requirement already satisfied: beautifulsoup4 in /home/sigma69/anaconda3/lib/python3.12/site-packages (from google) (4.12.3)\n",
      "Requirement already satisfied: soupsieve>1.2 in /home/sigma69/anaconda3/lib/python3.12/site-packages (from beautifulsoup4->google) (2.5)\n",
      "Downloading google-3.0.0-py2.py3-none-any.whl (45 kB)\n",
      "Installing collected packages: google\n",
      "Successfully installed google-3.0.0\n"
     ]
    }
   ],
   "source": [
    "!pip install google\n"
   ]
  },
  {
   "cell_type": "code",
   "execution_count": null,
   "id": "4e9ab7fe-25de-4b5a-b4de-dffd9e833d52",
   "metadata": {},
   "outputs": [],
   "source": [
    "from googlesearch import search\n",
    "\n",
    "querry = input(\"search\")\n",
    "\n",
    "for url in querry:\n",
    "    \n",
    "print(url)"
   ]
  }
 ],
 "metadata": {
  "kernelspec": {
   "display_name": "Python 3 (ipykernel)",
   "language": "python",
   "name": "python3"
  },
  "language_info": {
   "codemirror_mode": {
    "name": "ipython",
    "version": 3
   },
   "file_extension": ".py",
   "mimetype": "text/x-python",
   "name": "python",
   "nbconvert_exporter": "python",
   "pygments_lexer": "ipython3",
   "version": "3.12.7"
  }
 },
 "nbformat": 4,
 "nbformat_minor": 5
}
