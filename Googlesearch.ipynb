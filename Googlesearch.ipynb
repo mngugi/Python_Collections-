{
 "cells": [
  {
   "cell_type": "code",
   "execution_count": 4,
   "id": "4e9ab7fe-25de-4b5a-b4de-dffd9e833d52",
   "metadata": {},
   "outputs": [
    {
     "name": "stdin",
     "output_type": "stream",
     "text": [
      "search https://google592.com\n"
     ]
    },
    {
     "name": "stdout",
     "output_type": "stream",
     "text": [
      "https://m.facebook.com/groups/1202590076897533/posts/1952106411945892/\n",
      "https://www.scamadviser.com/check-website/google592.com\n",
      "https://www.facebook.com/groups/709395631050242/posts/978186300837839/\n",
      "https://scamminder.com/websites/google592.com/\n",
      "https://www.scamdoc.com/view/2077118\n",
      "https://www.eschoolnews.com/top-news/2015/11/23/how-search-google-592/\n",
      "https://www.scam-detector.com/validator/google592-com-review/\n",
      "https://forum.electroneek.com/t/authenticating-with-google/592\n",
      "https://graphicriver.net/youtube+banner+template-in-graphics\n",
      "https://venturebeat.com/business/viacom-google-592-million/\n",
      "https://bpkh.go.id/en/search/%5Btcp4.com%5Dseo+site+google592/feed/rss2/\n",
      "https://www.linkedin.com/jobs/sql-engineer-jobs\n",
      "https://github.com/tailscale/tailscale/issues/6180\n",
      "https://computerforums.net/threads/frustrated-with-google.592/\n",
      "https://fr.gridinsoft.com/online-virus-scanner/url/google592-com\n",
      "https://jaems.jp/contents/icomej/vol15-2/11_Lossec_Millar105_112.pdf\n",
      "https://papers.ssrn.com/sol3/Delivery.cfm/SSRN_ID1794215_code1614389.pdf?abstractid=1760611\n",
      "https://www.siteconfiavel.com.br/site/google592-com\n",
      "https://laodong.vn/the-gioi/phap-phat-google-592-trieu-usd-930121.ldo\n",
      "https://www.ambraces.com/reviews/\n",
      "https://www.ca5.uscourts.gov/opinions/pub/23/23-60321-CR0.pdf\n",
      "https://www.ijlsit.org/journal-article-file/8942\n",
      "https://gridinsoft.ua/online-virus-scanner/url/google592-com\n",
      "https://sinta.kemdikbud.go.id/journals/google/592\n",
      "https://reputation.geniusvets.com/columbia-pike-animal-hospital-emergency-center-169903618268027\n",
      "https://al-sharq.com/tags/[tcp4.com]xml%20seo%20google592/2\n",
      "https://birdeye.com/costa-coffee-173009089844759\n",
      "https://reputation.recallmax.com/brentwood-dental-centre-170740637310062\n",
      "https://www.texaspolicyresearch.com/decision-on-geofence-warrants-a-critical-blow-to-mass-surveillance/\n",
      "https://www.tahiti-infos.com/search/[tcp4.com]seo%20optimization%20on%20google592\n",
      "https://stockphone.fr/google/592-google-pixel-7Pro-neige.html\n",
      "https://support.plenigo.com/help/de-de/189-google/592-api-aufrufe\n",
      "https://www.studocu.com/en-us/document/barry-university/introduction-to-digital-literacy/lesson1-searches-4/46677699\n",
      "https://reputation.5starbusiness.com/homesense-heating-and-cooling-171389282602730\n",
      "https://spap.jst.go.jp/investigation/downloads/2023_rr_03_en.pdf\n",
      "https://al-sharq.com/tags/[tcp4.com]xml%20seo%20google592/83255\n",
      "https://birdeye.com/costa-coffee-173009085984375\n",
      "https://www.stata.com/meeting/canada09/ca09_radyakin.pdf\n",
      "https://www.senser.net/products/senserads-6890f97a-9049-2fba-7663-483058f889c9/Google/592/salomon-s-lab-logo-sports-shoes-409322383241216?region=au\n",
      "https://graphicriver.net/facebook+banner-and-corporate-graphics\n",
      "https://dawsonite.dawsoncollege.qc.ca/page/288/?cat=-1\n",
      "https://go.doctorsinternet.com/advanced-dental-centers-weymouth-168160116117653\n",
      "https://www.scamadviser.com/nl/check-website/google592.com\n",
      "https://www.klicktipp.com/solutions/kontaktdaten-automatisiert-gewinnen/\n",
      "https://reviews.bestpos.io/the-juicy-crab-sugar-land-167216737879185\n",
      "https://archive.org/stream/ananecdotalhist02buckgoog/ananecdotalhist02buckgoog_djvu.txt\n",
      "https://www.reddit.com/r/Google_Ads/comments/1h3i9ls/ask_me_anything_related_to_google_ads/\n",
      "https://forumbr.asustor.com/t/datasync-center-nao-loga-no-drive-google/592\n",
      "https://www.messywands.com/2019/10/psa-tatcha-friends-family-sale-2019.html\n",
      "https://www.rafasshop.es/deportivo/camisetas-tecnicas/?filter_color=pixel-royal-199\n",
      "https://www.slideshare.net/slideshow/theory-project-251020371/251020371\n",
      "https://archive.org/stream/annualreportvol00indugoog/annualreportvol00indugoog_djvu.txt\n",
      "https://rozetka.com.ua/ua/zapchasti-dlya-telefonov/c4650580/page=38;producer=premium/\n",
      "https://pinkfishmedia.net/forum/threads/which-switch-cleaner.96536/\n",
      "https://github.com/docker/for-win/issues/13681\n",
      "https://baomoi.com/sau-nvidia-van-phong-huawei-o-phap-bi-co-quan-chuc-nang-kham-xet-c48293249.epi\n",
      "https://scamminder.com/websites/juicyfields.com/\n",
      "https://www.automartusa.com/dealer-page-view/cambridge-motors-55008/\n",
      "https://www.reddit.com/user/PROJECT-Z-NATION/\n",
      "https://laodong.vn/the-gioi/nga-canh-cao-ga-khong-lo-youtube-959119.ldo\n",
      "https://superfan.art/shores-of-hell/?srsltid=AfmBOopP6fZZbx34MBoLAHUIpiyj4oanWOOr909fnnMrXmkPIOkRHhJO\n",
      "https://theartofsound.net/forum/archive/index.php/t-19462.html\n",
      "https://dawsonite.dawsoncollege.qc.ca/2015/12/\n",
      "https://rozetka.com.ua/zapchasti-dlya-telefonov/c4650580/page=28;producer=premium/\n",
      "https://www.carweek.com/dealers/cadillac/10601-white-plains-new-york\n",
      "https://reviewsonmywebsite.com/reviews/tcs-auto-wash-detailing-of-durham\n",
      "https://www.automartusa.com/dealer-page-view/rhoades-automotive-46725/\n",
      "https://www.carweek.com/dealers/chevrolet/06786-terryville-connecticut\n",
      "https://www.usedcardealers.com/car-dealers/nissan/39120-natchez-mississippi/\n",
      "https://www.usedcardealers.com/car-dealers/chevrolet/12601-poughkeepsie-new-york/\n",
      "https://slowowroclawian.pl/firmy/kebab-wroclaw\n",
      "https://restaurantguru.com/Fuki-Steakhouse-Oshkosh\n",
      "https://umbro.apkgold.id/android-4.1.2\n",
      "https://eveninsight.com/safety-checker/website/google592.com\n",
      "https://www.seo-tip.com/domain.php?part=03/16/2024/157\n",
      "https://wroclawopen.pl/firmy/kebab-wroclaw\n",
      "https://donpornovideos.com/xxx/google-porno-gratis/\n"
     ]
    }
   ],
   "source": [
    "from googlesearch import search\n",
    "\n",
    "querry = input(\"search\")\n",
    "\n",
    "for url in search(querry):\n",
    "    print(url)"
   ]
  },
  {
   "cell_type": "code",
   "execution_count": null,
   "id": "40c950b8-fbcf-4900-be60-a6b3a95cb2fe",
   "metadata": {},
   "outputs": [],
   "source": []
  }
 ],
 "metadata": {
  "kernelspec": {
   "display_name": "Python 3 (ipykernel)",
   "language": "python",
   "name": "python3"
  },
  "language_info": {
   "codemirror_mode": {
    "name": "ipython",
    "version": 3
   },
   "file_extension": ".py",
   "mimetype": "text/x-python",
   "name": "python",
   "nbconvert_exporter": "python",
   "pygments_lexer": "ipython3",
   "version": "3.12.7"
  }
 },
 "nbformat": 4,
 "nbformat_minor": 5
}
