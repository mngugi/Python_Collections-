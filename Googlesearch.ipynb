{
 "cells": [
  {
   "cell_type": "code",
   "execution_count": 3,
   "id": "4e9ab7fe-25de-4b5a-b4de-dffd9e833d52",
   "metadata": {},
   "outputs": [
    {
     "name": "stdin",
     "output_type": "stream",
     "text": [
      "search www.youtube.com\n"
     ]
    },
    {
     "name": "stdout",
     "output_type": "stream",
     "text": [
      "https://www.youtube.com/\n",
      "https://about.youtube/\n",
      "https://www.facebook.com/youtube/\n",
      "https://www.youtubekids.com/\n",
      "https://www.youtubekids.com/channel/UC5XMF3Inoi8R9nSI8ChOsdQ\n",
      "https://www.youtubekids.com/channel/UCVzLLZkDuFGAE2BGdBuBNBg\n",
      "https://www.youtubekids.com/?hl=en-GB\n",
      "https://www.scribbr.com/apa-examples/youtube/\n",
      "https://apps.apple.com/us/app/youtube-kids/id936971630\n",
      "https://blog.youtube/\n",
      "https://www.instagram.com/youtube/\n",
      "https://fr.wikipedia.org/wiki/YouTube\n",
      "https://www.microsoft.com/en-aw/p/youtube/9ndp7ktlk7w3\n",
      "https://blog.youtube/news-and-events/youtube-playables/\n",
      "https://www.turkiyeburslari.gov.tr/announcements/turkiye-scholarships-2024-applications-55\n",
      "https://www.canva.com/create/youtube-banners/\n",
      "https://web.whatsapp.com/\n",
      "https://www.turkiyeburslari.gov.tr/scholarshipsprograms\n",
      "https://www.xtb.com/\n",
      "https://www.newtoncountyschools.org/\n",
      "https://www.ppines.com/\n",
      "https://www.mcohio.org/1209/Probate-Court\n",
      "https://www.amazon.com/\n",
      "https://www.missingkids.org/home\n",
      "https://www.devosperformancehall.com/\n",
      "https://www.apple.com/visionos/visionos-2/\n",
      "https://incompetech.com/\n",
      "https://www.citadel.edu/\n",
      "https://treasury.tn.gov/Unclaimed-Property/Claim-Unclaimed-Property/Find-Your-Missing-Money\n",
      "https://ccc.ca.gov/\n",
      "https://www.msm.edu/\n",
      "https://www.northeaststate.edu/\n"
     ]
    }
   ],
   "source": [
    "from googlesearch import search\n",
    "\n",
    "querry = input(\"search\")\n",
    "\n",
    "for url in search(querry):\n",
    "    print(url)"
   ]
  },
  {
   "cell_type": "code",
   "execution_count": null,
   "id": "40c950b8-fbcf-4900-be60-a6b3a95cb2fe",
   "metadata": {},
   "outputs": [],
   "source": []
  }
 ],
 "metadata": {
  "kernelspec": {
   "display_name": "Python 3 (ipykernel)",
   "language": "python",
   "name": "python3"
  },
  "language_info": {
   "codemirror_mode": {
    "name": "ipython",
    "version": 3
   },
   "file_extension": ".py",
   "mimetype": "text/x-python",
   "name": "python",
   "nbconvert_exporter": "python",
   "pygments_lexer": "ipython3",
   "version": "3.12.7"
  }
 },
 "nbformat": 4,
 "nbformat_minor": 5
}
