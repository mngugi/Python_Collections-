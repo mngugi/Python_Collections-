{
 "cells": [
  {
   "cell_type": "code",
   "execution_count": 16,
   "id": "f06cbee4-534c-44a6-8ac1-dfa623f7d052",
   "metadata": {},
   "outputs": [
    {
     "name": "stdout",
     "output_type": "stream",
     "text": [
      "rekcoD\n"
     ]
    },
    {
     "ename": "NameError",
     "evalue": "name 'Docker' is not defined",
     "output_type": "error",
     "traceback": [
      "\u001b[0;31m---------------------------------------------------------------------------\u001b[0m",
      "\u001b[0;31mNameError\u001b[0m                                 Traceback (most recent call last)",
      "Cell \u001b[0;32mIn[16], line 14\u001b[0m\n\u001b[1;32m     11\u001b[0m     \u001b[38;5;66;03m# Check if the string is equal to its reverse\u001b[39;00m\n\u001b[1;32m     12\u001b[0m     \u001b[38;5;28;01mreturn\u001b[39;00m word \u001b[38;5;241m==\u001b[39m word[::\u001b[38;5;241m-\u001b[39m\u001b[38;5;241m1\u001b[39m]\n\u001b[0;32m---> 14\u001b[0m \u001b[38;5;28mprint\u001b[39m(is_palindrome(\u001b[43mDocker\u001b[49m))    \n",
      "\u001b[0;31mNameError\u001b[0m: name 'Docker' is not defined"
     ]
    }
   ],
   "source": [
    "import palindrome\n",
    "\n",
    "def reverse(word):\n",
    "    return word[::-1]\n",
    "\n",
    "print(reverse('Docker'))  # Output: rekcoD\n",
    "\n",
    "def is_palindrome(word):\n",
    "    # Remove spaces and convert to lowercase for comparison\n",
    "    word = word.replace(\" \", \"\").lower()\n",
    "    # Check if the string is equal to its reverse\n",
    "    return word == word[::-1]\n",
    "\n",
    "print(is_palindrome('Docker'))    "
   ]
  },
  {
   "cell_type": "code",
   "execution_count": null,
   "id": "d3122319-fed3-4a94-afd4-9e5dc7eb7fdf",
   "metadata": {},
   "outputs": [],
   "source": []
  },
  {
   "cell_type": "code",
   "execution_count": null,
   "id": "d9a4f22d-83af-4001-b80e-e70bec71766e",
   "metadata": {},
   "outputs": [],
   "source": []
  }
 ],
 "metadata": {
  "kernelspec": {
   "display_name": "Python 3 (ipykernel)",
   "language": "python",
   "name": "python3"
  },
  "language_info": {
   "codemirror_mode": {
    "name": "ipython",
    "version": 3
   },
   "file_extension": ".py",
   "mimetype": "text/x-python",
   "name": "python",
   "nbconvert_exporter": "python",
   "pygments_lexer": "ipython3",
   "version": "3.13.3"
  }
 },
 "nbformat": 4,
 "nbformat_minor": 5
}
