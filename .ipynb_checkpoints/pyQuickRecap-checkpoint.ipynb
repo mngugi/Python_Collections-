{
 "cells": [
  {
   "cell_type": "code",
   "execution_count": 3,
   "id": "d0d6c37a-98ac-46e8-86d7-bc86eedbf5bf",
   "metadata": {},
   "outputs": [],
   "source": [
    "# design of a simple calculator\n",
    "\n",
    "import sys\n",
    "\n",
    "def add(i,j): \n",
    "    return i+j\n",
    "\n",
    "def subtract(i,j):\n",
    "    return i-j\n",
    "\n",
    "def divide(i,j):\n",
    "    return i/j\n",
    "\n",
    "def multiply(i,j):\n",
    "    return\n",
    "\n"
   ]
  },
  {
   "cell_type": "code",
   "execution_count": 4,
   "id": "f21b79be-6fc6-4c05-a2f3-0d9ec0b35887",
   "metadata": {},
   "outputs": [],
   "source": [
    "import sys \n",
    "\n",
    "def takeinput():\n",
    "    first = input('Enter First Number: , Q to Exit: ')\n",
    "\n",
    "    if first == 'Q':\n",
    "        sys.exit()\n",
    "\n",
    "    sign = input('Please Enter +, - , /: ')\n",
    "    second = input('Enter Second Number: ')\n",
    "    list_ = [first,second,second]\n",
    "\n",
    "    return list_"
   ]
  },
  {
   "cell_type": "code",
   "execution_count": 6,
   "id": "f44f8d30-a10b-4bf4-abb7-24e152439b48",
   "metadata": {},
   "outputs": [
    {
     "name": "stdin",
     "output_type": "stream",
     "text": [
      "Enter First Number: , Q to Exit:  6\n",
      "Please Enter +, - , /:  /\n",
      "Enter Second Number:  8\n"
     ]
    },
    {
     "ename": "NameError",
     "evalue": "name 'a' is not defined",
     "output_type": "error",
     "traceback": [
      "\u001b[0;31m---------------------------------------------------------------------------\u001b[0m",
      "\u001b[0;31mNameError\u001b[0m                                 Traceback (most recent call last)",
      "Cell \u001b[0;32mIn[6], line 19\u001b[0m\n\u001b[1;32m     16\u001b[0m             answer \u001b[38;5;241m=\u001b[39m multiply(i,j)\n\u001b[1;32m     18\u001b[0m         \u001b[38;5;28mprint\u001b[39m(a, sign,b, \u001b[38;5;124m'\u001b[39m\u001b[38;5;124m=\u001b[39m\u001b[38;5;124m'\u001b[39m)   \n\u001b[0;32m---> 19\u001b[0m calc()\n",
      "Cell \u001b[0;32mIn[6], line 18\u001b[0m, in \u001b[0;36mcalc\u001b[0;34m()\u001b[0m\n\u001b[1;32m     15\u001b[0m \u001b[38;5;28;01mif\u001b[39;00m sign \u001b[38;5;241m==\u001b[39m \u001b[38;5;124m'\u001b[39m\u001b[38;5;124m*\u001b[39m\u001b[38;5;124m'\u001b[39m:\n\u001b[1;32m     16\u001b[0m     answer \u001b[38;5;241m=\u001b[39m multiply(i,j)\n\u001b[0;32m---> 18\u001b[0m \u001b[38;5;28mprint\u001b[39m(a, sign,b, \u001b[38;5;124m'\u001b[39m\u001b[38;5;124m=\u001b[39m\u001b[38;5;124m'\u001b[39m)\n",
      "\u001b[0;31mNameError\u001b[0m: name 'a' is not defined"
     ]
    }
   ],
   "source": [
    "def calc():\n",
    "    answer = 0\n",
    "    while True:\n",
    "        lista = takeinput()\n",
    "        i = int(lista[0])\n",
    "        j = int(lista[1])\n",
    "        sign = lista[2]\n",
    "\n",
    "        if sign == '+':\n",
    "            answer = add(i,j)\n",
    "        if sign == '-':\n",
    "            answer = subtract(i,j)\n",
    "        if sign == '/':\n",
    "            answer = divide(i,j)\n",
    "        if sign == '*':\n",
    "            answer = multiply(i,j)\n",
    "\n",
    "        print(i, sign,j, '=')   \n",
    "calc()"
   ]
  },
  {
   "cell_type": "code",
   "execution_count": null,
   "id": "288ad2d5-cb3b-4e6b-b886-e7c364978525",
   "metadata": {},
   "outputs": [],
   "source": []
  }
 ],
 "metadata": {
  "kernelspec": {
   "display_name": "Python 3 (ipykernel)",
   "language": "python",
   "name": "python3"
  },
  "language_info": {
   "codemirror_mode": {
    "name": "ipython",
    "version": 3
   },
   "file_extension": ".py",
   "mimetype": "text/x-python",
   "name": "python",
   "nbconvert_exporter": "python",
   "pygments_lexer": "ipython3",
   "version": "3.12.2"
  }
 },
 "nbformat": 4,
 "nbformat_minor": 5
}
