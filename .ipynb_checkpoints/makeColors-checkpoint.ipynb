{
 "cells": [
  {
   "cell_type": "code",
   "execution_count": 1,
   "id": "50f7a2c4-3b02-4908-bdaf-9815a6d2da5d",
   "metadata": {},
   "outputs": [],
   "source": [
    "import tkinter as tk\n",
    "\n",
    "def update_color():\n",
    "    r = red_slider.get()\n",
    "    g = green_slider.get()\n",
    "    b = blue_slider.get()\n",
    "    w = white_slider.get()\n",
    "    blk = black_slider.get()    \n",
    "    # Convert RGB to Hex\n",
    "    color = f\"#{r:02x}{g:02x}{b:02x}\"\n",
    "    \n",
    "    color_box.config(bg=color)\n",
    "    hex_label.config(text=f\"Hex: {color}\")\n",
    "\n",
    "# Create main window\n",
    "root = tk.Tk()\n",
    "root.title(\"Color Mixer\")\n",
    "\n",
    "# Red Slider\n",
    "tk.Label(root, text=\"Red\").pack()\n",
    "red_slider = tk.Scale(root, from_=0, to=255, orient=\"horizontal\", command=lambda x: update_color())\n",
    "red_slider.pack()\n",
    "\n",
    "# Green Slider\n",
    "tk.Label(root, text=\"Green\").pack()\n",
    "green_slider = tk.Scale(root, from_=0, to=255, orient=\"horizontal\", command=lambda x: update_color())\n",
    "green_slider.pack()\n",
    "\n",
    "# Blue Slider\n",
    "tk.Label(root, text=\"Blue\").pack()\n",
    "blue_slider = tk.Scale(root, from_=0, to=255, orient=\"horizontal\", command=lambda x: update_color())\n",
    "blue_slider.pack()\n",
    "\n",
    "# Color Box\n",
    "color_box = tk.Label(root, text=\"Mixed Color\", width=20, height=5, bg=\"white\")\n",
    "color_box.pack()\n",
    "\n",
    "# Hex Code Label\n",
    "hex_label = tk.Label(root, text=\"Hex: #FFFFFF\")\n",
    "hex_label.pack()\n",
    "\n",
    "# Run the application\n",
    "root.mainloop()\n"
   ]
  },
  {
   "cell_type": "code",
   "execution_count": null,
   "id": "5699aedc-006e-408c-9ac6-0bac63456618",
   "metadata": {},
   "outputs": [],
   "source": []
  }
 ],
 "metadata": {
  "kernelspec": {
   "display_name": "Python 3 (ipykernel)",
   "language": "python",
   "name": "python3"
  },
  "language_info": {
   "codemirror_mode": {
    "name": "ipython",
    "version": 3
   },
   "file_extension": ".py",
   "mimetype": "text/x-python",
   "name": "python",
   "nbconvert_exporter": "python",
   "pygments_lexer": "ipython3",
   "version": "3.12.2"
  }
 },
 "nbformat": 4,
 "nbformat_minor": 5
}
