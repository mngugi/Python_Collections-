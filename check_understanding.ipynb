{
 "cells": [
  {
   "cell_type": "code",
   "execution_count": 3,
   "id": "3dd30f42-949a-42c3-9a6a-5f06d7a5b30b",
   "metadata": {},
   "outputs": [
    {
     "name": "stdout",
     "output_type": "stream",
     "text": [
      "Corn Flakes cereal is produced by Kellogg's and has 2 grams of fiber in every serving!\n",
      "Honey Nut Cheerios cereal is produced by General Mills and has 3 grams of fiber in every serving!\n"
     ]
    }
   ],
   "source": [
    "'''\n",
    "Check Your Understanding\n",
    "\n",
    "Create a class called Cereal that accepts three inputs: 2 strings and 1 integer, and assigns \n",
    "them to 3 instance variables in the constructor: name, brand, and fiber. When an instance of \n",
    "Cereal is printed, the user should see the following: “[name] cereal is produced by [brand] and \n",
    "has [fiber integer] grams of fiber in every serving!” To the variable name c1, assign an instance\n",
    "of Cereal whose name is \"Corn Flakes\", brand is \"Kellogg's\", and fiber is 2. To the variable name \n",
    "c2, assign an instance of Cereal whose name is \"Honey Nut Cheerios\", brand is \"General Mills\", and \n",
    "fiber is 3. Practice printing both!\n",
    "\n",
    "\n",
    "'''\n",
    "\n",
    "\n",
    "class Cereal:\n",
    "    def __init__(self, name, brand, fiber):\n",
    "        self.name =  name\n",
    "        self.brand = brand\n",
    "        self.fiber = fiber\n",
    "\n",
    "    def __str__(self):\n",
    "        return f\"{self.name} cereal is produced by {self.brand} and has {self.fiber} grams of fiber in every serving!\"\n",
    "        \n",
    "\n",
    "\n",
    "c1 = Cereal(\"Corn Flakes\", \"Kellogg's\", 2)\n",
    "c2 = Cereal(\"Honey Nut Cheerios\", \"General Mills\", 3)\n",
    "\n",
    "print(c1)\n",
    "print(c2)"
   ]
  },
  {
   "cell_type": "code",
   "execution_count": 4,
   "id": "17baa098-29bc-4422-ba12-a7743dcd83e4",
   "metadata": {},
   "outputs": [
    {
     "name": "stdout",
     "output_type": "stream",
     "text": [
      "Welcome you are logged in! Chabby tores\n"
     ]
    }
   ],
   "source": [
    "# define a function employee\n",
    "\n",
    "def greet_employee(name):\n",
    "    print(\"Welcome you are logged in!\",name)\n",
    "\n",
    "#call the function\n",
    "greet_employee(\"Chabby tores\")"
   ]
  },
  {
   "cell_type": "code",
   "execution_count": 8,
   "id": "779203ad-2405-427b-8c2a-94a8c2a88179",
   "metadata": {},
   "outputs": [
    {
     "name": "stdout",
     "output_type": "stream",
     "text": [
      "Welcome you are logged in! Chabby Tores\n"
     ]
    }
   ],
   "source": [
    "# define a function employee\n",
    "\n",
    "def greet_employee(first_name, second_name):\n",
    "    print(\"Welcome you are logged in!\",first_name, second_name)\n",
    "\n",
    "#call the function\n",
    "greet_employee(\"Chabby\", \"Tores\")"
   ]
  },
  {
   "cell_type": "code",
   "execution_count": null,
   "id": "b5d9535a-7608-44e8-83e6-efc240f09673",
   "metadata": {},
   "outputs": [],
   "source": []
  }
 ],
 "metadata": {
  "kernelspec": {
   "display_name": "base",
   "language": "python",
   "name": "python3"
  },
  "language_info": {
   "codemirror_mode": {
    "name": "ipython",
    "version": 3
   },
   "file_extension": ".py",
   "mimetype": "text/x-python",
   "name": "python",
   "nbconvert_exporter": "python",
   "pygments_lexer": "ipython3",
   "version": "3.13.5"
  }
 },
 "nbformat": 4,
 "nbformat_minor": 5
}
