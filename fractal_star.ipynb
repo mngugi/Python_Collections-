{
 "cells": [
  {
   "cell_type": "code",
   "execution_count": null,
   "id": "2cab443e-4abf-4781-90fc-ca827ef2c8f2",
   "metadata": {},
   "outputs": [],
   "source": [
    "import turtle\n",
    "\n",
    "tr = turtle.Turtle()\n",
    "tr.speed(0)\n",
    "\n",
    "turtle.bgcolor(\"white\")\n",
    "tr.color(\"blue\")\n",
    "\n",
    "def star(size, depth):\n",
    "    if depth == 0:\n",
    "        return\n",
    "    for i in range(5):\n",
    "        tr.forward(size)\n",
    "        star(size/2, depth-1), tr.right(144)\n",
    "\n",
    "\n",
    "tr.penup(), tr.goto(-100, -50), tr.pendown()\n",
    "star(200, 3), turtle.done()\n",
    "        \n",
    "\n",
    "\n"
   ]
  },
  {
   "cell_type": "code",
   "execution_count": null,
   "id": "a41c888f-7e76-40ad-a9b5-2d4a2658edc4",
   "metadata": {},
   "outputs": [],
   "source": []
  }
 ],
 "metadata": {
  "kernelspec": {
   "display_name": "Python [conda env:base] *",
   "language": "python",
   "name": "conda-base-py"
  },
  "language_info": {
   "codemirror_mode": {
    "name": "ipython",
    "version": 3
   },
   "file_extension": ".py",
   "mimetype": "text/x-python",
   "name": "python",
   "nbconvert_exporter": "python",
   "pygments_lexer": "ipython3",
   "version": "3.13.5"
  }
 },
 "nbformat": 4,
 "nbformat_minor": 5
}
