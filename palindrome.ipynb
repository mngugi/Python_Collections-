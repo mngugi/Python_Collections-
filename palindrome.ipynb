{
 "cells": [
  {
   "cell_type": "code",
   "execution_count": 1,
   "id": "05d2317e-2615-43c2-a845-350ea6afe180",
   "metadata": {},
   "outputs": [
    {
     "name": "stdin",
     "output_type": "stream",
     "text": [
      "Enter a string  noon\n"
     ]
    },
    {
     "name": "stdout",
     "output_type": "stream",
     "text": [
      "palindrome!!\n",
      "True\n"
     ]
    }
   ],
   "source": [
    "import palindrome\n",
    "\n",
    "def is_palindrome(s):\n",
    "    # Remove spaces and convert to lowercase for comparison\n",
    "    s = s.replace(\" \", \"\").lower()\n",
    "    # Check if the string is equal to its reverse\n",
    "    return s == s[::-1]\n",
    "\n",
    "# Example usage\n",
    "result = is_palindrome(\"noon\")\n",
    "print(result)  # This will print True if \"noon\" is a palindrome"
   ]
  },
  {
   "cell_type": "code",
   "execution_count": null,
   "id": "77ae88b3-156a-4c71-80ea-4fcfdb6a65c6",
   "metadata": {},
   "outputs": [],
   "source": []
  }
 ],
 "metadata": {
  "kernelspec": {
   "display_name": "Python 3 (ipykernel)",
   "language": "python",
   "name": "python3"
  },
  "language_info": {
   "codemirror_mode": {
    "name": "ipython",
    "version": 3
   },
   "file_extension": ".py",
   "mimetype": "text/x-python",
   "name": "python",
   "nbconvert_exporter": "python",
   "pygments_lexer": "ipython3",
   "version": "3.13.5"
  }
 },
 "nbformat": 4,
 "nbformat_minor": 5
}
